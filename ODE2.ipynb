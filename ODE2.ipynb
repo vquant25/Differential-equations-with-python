{
  "cells": [
    {
      "cell_type": "markdown",
      "metadata": {
        "id": "view-in-github",
        "colab_type": "text"
      },
      "source": [
        "<a href=\"https://colab.research.google.com/github/vquant25/Differential-equations-with-python/blob/main/ODE2.ipynb\" target=\"_parent\"><img src=\"https://colab.research.google.com/assets/colab-badge.svg\" alt=\"Open In Colab\"/></a>"
      ]
    },
    {
      "cell_type": "code",
      "execution_count": null,
      "metadata": {
        "colab": {
          "background_save": true
        },
        "id": "z1Hcq0GcmqIX",
        "outputId": "1f778ea3-20ab-4c81-b266-e30f41b0f4fe"
      },
      "outputs": [
        {
          "name": "stdout",
          "output_type": "stream",
          "text": [
            "Runge-Kutta Fehlberg method:\n",
            "At x=0.2, y=1.020133420044617\n",
            "At x=0.4, y=1.0821387461375223\n",
            "At x=0.6, y=1.190858744125174\n",
            "\n",
            "Milne's method:\n",
            "At x=1.0, y=16.96515106988398\n",
            "\n",
            "Adams-Moulton method:\n",
            "At x=1.0, y=1.7238504559402443\n"
          ]
        }
      ],
      "source": [
        "import numpy as np\n",
        "\n",
        "# Define the function y' = f(x, y)\n",
        "def f(x, y):\n",
        "    return y * np.sin(x)\n",
        "\n",
        "# Runge-Kutta Fehlberg method to get starting values\n",
        "def runge_kutta_fehlberg(x0, y0, h, target_x):\n",
        "    while x0 < target_x:\n",
        "        k1 = h * f(x0, y0)\n",
        "        k2 = h * f(x0 + h / 4, y0 + k1 / 4)\n",
        "        k3 = h * f(x0 + 3 * h / 8, y0 + 3 * k1 / 32 + 9 * k2 / 32)\n",
        "        k4 = h * f(x0 + 12 * h / 13, y0 + 1932 * k1 / 2197 - 7200 * k2 / 2197 + 7296 * k3 / 2197)\n",
        "        k5 = h * f(x0 + h, y0 + 439 * k1 / 216 - 8 * k2 + 3680 * k3 / 513 - 845 * k4 / 4104)\n",
        "        k6 = h * f(x0 + h / 2, y0 - 8 * k1 / 27 + 2 * k2 - 3544 * k3 / 2565 + 1859 * k4 / 4104 - 11 * k5 / 40)\n",
        "\n",
        "        y0_next = y0 + 25 * k1 / 216 + 1408 * k3 / 2565 + 2197 * k4 / 4104 - k5 / 5\n",
        "        y0_star = y0 + 16 * k1 / 135 + 6656 * k3 / 12825 + 28561 * k4 / 56430 - 9 * k5 / 50 + 2 * k6 / 55\n",
        "\n",
        "        error = np.abs(y0_next - y0_star)\n",
        "        if error < 1e-5:\n",
        "            x0 += h\n",
        "            y0 = y0_next\n",
        "        h = min(h * (1.25 * (1e-5 / error) ** 0.2), target_x - x0)\n",
        "    return y0\n",
        "\n",
        "# Milne's method\n",
        "def milnes_method(x0, y0, h, target_x):\n",
        "    while x0 < target_x:\n",
        "        y1 = runge_kutta_fehlberg(x0, y0, h, x0 + 3 * h)\n",
        "        y2 = runge_kutta_fehlberg(x0, y0, h, x0 + 2 * h)\n",
        "        y3 = runge_kutta_fehlberg(x0, y0, h, x0 + h)\n",
        "        y0 = y3 + 4/3 * h * (2 * f(x0 + 3 * h, y1) - f(x0 + 2 * h, y2) + 2 * f(x0, y0))\n",
        "        x0 += h\n",
        "    return y0\n",
        "\n",
        "# Adams-Moulton method\n",
        "def adams_moulton(x0, y0, h, target_x):\n",
        "    while x0 < target_x:\n",
        "        y1 = runge_kutta_fehlberg(x0, y0, h, x0 + h)\n",
        "        y0 = y0 + h * (5/12 * f(x0 + h, y1) + 2/3 * f(x0, y0) - 1/12 * f(x0 - h, y0))\n",
        "        x0 += h\n",
        "    return y0\n",
        "\n",
        "# Initial conditions\n",
        "x0 = 0\n",
        "y0 = 1\n",
        "\n",
        "# Step size\n",
        "h = 0.1\n",
        "\n",
        "# Get values at x=0.2, 0.4, 0.6 using Runge-Kutta Fehlberg method\n",
        "x_values = [0.2, 0.4, 0.6]\n",
        "y_values_rkf = [runge_kutta_fehlberg(x0, y0, h, x) for x in x_values]\n",
        "\n",
        "# Advance solution to x=1.0 using Milne's method\n",
        "y_milne = milnes_method(x0, y0, h, 1.0)\n",
        "\n",
        "# Advance solution to x=1.0 using Adams-Moulton method\n",
        "y_adams_moulton = adams_moulton(x0, y0, h, 1.0)\n",
        "\n",
        "print(\"Runge-Kutta Fehlberg method:\")\n",
        "for x, y in zip(x_values, y_values_rkf):\n",
        "    print(f\"At x={x}, y={y}\")\n",
        "\n",
        "print(\"\\nMilne's method:\")\n",
        "print(f\"At x=1.0, y={y_milne}\")\n",
        "\n",
        "print(\"\\nAdams-Moulton method:\")\n",
        "print(f\"At x=1.0, y={y_adams_moulton}\")"
      ]
    }
  ],
  "metadata": {
    "colab": {
      "provenance": [],
      "authorship_tag": "ABX9TyODTBVH3pOOR67z9vBkJm6W",
      "include_colab_link": true
    },
    "kernelspec": {
      "display_name": "Python 3",
      "name": "python3"
    },
    "language_info": {
      "name": "python"
    }
  },
  "nbformat": 4,
  "nbformat_minor": 0
}